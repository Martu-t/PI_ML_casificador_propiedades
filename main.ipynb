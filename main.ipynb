{
 "cells": [
  {
   "cell_type": "code",
   "execution_count": 1,
   "metadata": {},
   "outputs": [],
   "source": [
    "# importar librerías necesarias librerias\n",
    "import pandas as pd\n",
    "import numpy as np\n",
    "import matplotlib.pyplot as plt # nos permite hacer gráficos\n",
    "import seaborn as sns #nos permite hacer gráficos bonitos"
   ]
  },
  {
   "cell_type": "code",
   "execution_count": 2,
   "metadata": {},
   "outputs": [],
   "source": [
    "#se guardan la info del csv en un Dataframe de Pandas\n",
    "properties_colombia_train = pd.read_csv('datasets/properties_colombia_train.csv')\n",
    "properties_colombia_test = pd.read_csv('datasets/properties_colombia_test.csv')"
   ]
  },
  {
   "cell_type": "code",
   "execution_count": null,
   "metadata": {},
   "outputs": [],
   "source": [
    "#ver la como se compone\n",
    "properties_colombia_train.head()"
   ]
  },
  {
   "cell_type": "code",
   "execution_count": 38,
   "metadata": {},
   "outputs": [],
   "source": [
    "#le cambiamos el formato a los flotantes (sobretodo el precio) para que no se vea tan raro\n",
    "pd.options.display.float_format = '{:,.2f}'.format"
   ]
  },
  {
   "cell_type": "code",
   "execution_count": 34,
   "metadata": {},
   "outputs": [
    {
     "name": "stdout",
     "output_type": "stream",
     "text": [
      "tamaño set entrenamiento: (197549, 27), tamaño set test(65850, 26)\n"
     ]
    }
   ],
   "source": [
    "#ver el tamaño del dataset de entrenamiento y de test\n",
    "print(f'tamaño set entrenamiento: {properties_colombia_train.shape}, tamaño set test{properties_colombia_test.shape}')\n"
   ]
  },
  {
   "cell_type": "code",
   "execution_count": 28,
   "metadata": {},
   "outputs": [
    {
     "data": {
      "text/html": [
       "<div>\n",
       "<style scoped>\n",
       "    .dataframe tbody tr th:only-of-type {\n",
       "        vertical-align: middle;\n",
       "    }\n",
       "\n",
       "    .dataframe tbody tr th {\n",
       "        vertical-align: top;\n",
       "    }\n",
       "\n",
       "    .dataframe thead th {\n",
       "        text-align: right;\n",
       "    }\n",
       "</style>\n",
       "<table border=\"1\" class=\"dataframe\">\n",
       "  <thead>\n",
       "    <tr style=\"text-align: right;\">\n",
       "      <th></th>\n",
       "      <th>Unnamed: 0</th>\n",
       "      <th>lat</th>\n",
       "      <th>lon</th>\n",
       "      <th>rooms</th>\n",
       "      <th>bedrooms</th>\n",
       "      <th>bathrooms</th>\n",
       "      <th>surface_total</th>\n",
       "      <th>surface_covered</th>\n",
       "      <th>price</th>\n",
       "    </tr>\n",
       "  </thead>\n",
       "  <tbody>\n",
       "    <tr>\n",
       "      <th>count</th>\n",
       "      <td>197549.000000</td>\n",
       "      <td>148051.000000</td>\n",
       "      <td>148051.000000</td>\n",
       "      <td>27537.000000</td>\n",
       "      <td>40525.000000</td>\n",
       "      <td>156467.000000</td>\n",
       "      <td>6974.000000</td>\n",
       "      <td>9.802000e+03</td>\n",
       "      <td>1.974860e+05</td>\n",
       "    </tr>\n",
       "    <tr>\n",
       "      <th>mean</th>\n",
       "      <td>497437.843851</td>\n",
       "      <td>5.666001</td>\n",
       "      <td>-75.041045</td>\n",
       "      <td>3.291208</td>\n",
       "      <td>3.239062</td>\n",
       "      <td>2.639279</td>\n",
       "      <td>1352.132349</td>\n",
       "      <td>9.483356e+02</td>\n",
       "      <td>6.436051e+08</td>\n",
       "    </tr>\n",
       "    <tr>\n",
       "      <th>std</th>\n",
       "      <td>290023.578338</td>\n",
       "      <td>2.196804</td>\n",
       "      <td>1.104575</td>\n",
       "      <td>1.754795</td>\n",
       "      <td>1.985636</td>\n",
       "      <td>1.437174</td>\n",
       "      <td>7713.769352</td>\n",
       "      <td>3.730875e+04</td>\n",
       "      <td>1.944868e+09</td>\n",
       "    </tr>\n",
       "    <tr>\n",
       "      <th>min</th>\n",
       "      <td>0.000000</td>\n",
       "      <td>-32.787342</td>\n",
       "      <td>-119.698190</td>\n",
       "      <td>1.000000</td>\n",
       "      <td>0.000000</td>\n",
       "      <td>1.000000</td>\n",
       "      <td>10.000000</td>\n",
       "      <td>1.000000e+00</td>\n",
       "      <td>0.000000e+00</td>\n",
       "    </tr>\n",
       "    <tr>\n",
       "      <th>25%</th>\n",
       "      <td>234211.000000</td>\n",
       "      <td>4.582315</td>\n",
       "      <td>-75.645126</td>\n",
       "      <td>3.000000</td>\n",
       "      <td>3.000000</td>\n",
       "      <td>2.000000</td>\n",
       "      <td>72.000000</td>\n",
       "      <td>7.100000e+01</td>\n",
       "      <td>2.000000e+08</td>\n",
       "    </tr>\n",
       "    <tr>\n",
       "      <th>50%</th>\n",
       "      <td>507385.000000</td>\n",
       "      <td>4.908611</td>\n",
       "      <td>-75.476654</td>\n",
       "      <td>3.000000</td>\n",
       "      <td>3.000000</td>\n",
       "      <td>2.000000</td>\n",
       "      <td>120.000000</td>\n",
       "      <td>1.140000e+02</td>\n",
       "      <td>3.300000e+08</td>\n",
       "    </tr>\n",
       "    <tr>\n",
       "      <th>75%</th>\n",
       "      <td>770037.000000</td>\n",
       "      <td>6.248101</td>\n",
       "      <td>-74.094001</td>\n",
       "      <td>4.000000</td>\n",
       "      <td>4.000000</td>\n",
       "      <td>3.000000</td>\n",
       "      <td>281.000000</td>\n",
       "      <td>2.160000e+02</td>\n",
       "      <td>6.000000e+08</td>\n",
       "    </tr>\n",
       "    <tr>\n",
       "      <th>max</th>\n",
       "      <td>993551.000000</td>\n",
       "      <td>34.420334</td>\n",
       "      <td>-67.482570</td>\n",
       "      <td>40.000000</td>\n",
       "      <td>96.000000</td>\n",
       "      <td>20.000000</td>\n",
       "      <td>180000.000000</td>\n",
       "      <td>3.480000e+06</td>\n",
       "      <td>3.450000e+11</td>\n",
       "    </tr>\n",
       "  </tbody>\n",
       "</table>\n",
       "</div>"
      ],
      "text/plain": [
       "          Unnamed: 0            lat            lon         rooms  \\\n",
       "count  197549.000000  148051.000000  148051.000000  27537.000000   \n",
       "mean   497437.843851       5.666001     -75.041045      3.291208   \n",
       "std    290023.578338       2.196804       1.104575      1.754795   \n",
       "min         0.000000     -32.787342    -119.698190      1.000000   \n",
       "25%    234211.000000       4.582315     -75.645126      3.000000   \n",
       "50%    507385.000000       4.908611     -75.476654      3.000000   \n",
       "75%    770037.000000       6.248101     -74.094001      4.000000   \n",
       "max    993551.000000      34.420334     -67.482570     40.000000   \n",
       "\n",
       "           bedrooms      bathrooms  surface_total  surface_covered  \\\n",
       "count  40525.000000  156467.000000    6974.000000     9.802000e+03   \n",
       "mean       3.239062       2.639279    1352.132349     9.483356e+02   \n",
       "std        1.985636       1.437174    7713.769352     3.730875e+04   \n",
       "min        0.000000       1.000000      10.000000     1.000000e+00   \n",
       "25%        3.000000       2.000000      72.000000     7.100000e+01   \n",
       "50%        3.000000       2.000000     120.000000     1.140000e+02   \n",
       "75%        4.000000       3.000000     281.000000     2.160000e+02   \n",
       "max       96.000000      20.000000  180000.000000     3.480000e+06   \n",
       "\n",
       "              price  \n",
       "count  1.974860e+05  \n",
       "mean   6.436051e+08  \n",
       "std    1.944868e+09  \n",
       "min    0.000000e+00  \n",
       "25%    2.000000e+08  \n",
       "50%    3.300000e+08  \n",
       "75%    6.000000e+08  \n",
       "max    3.450000e+11  "
      ]
     },
     "execution_count": 28,
     "metadata": {},
     "output_type": "execute_result"
    }
   ],
   "source": [
    "#veo las principales indicadores estadísticos (del set train)\n",
    "properties_colombia_train.describe()\n",
    "#algunos detalles: \n",
    "# - el mx de bedroom cambia bastante pero el desvío standar no (todo ok ahí)\n",
    "# - los datos de surdace_covered varían un poco -.- \n"
   ]
  },
  {
   "cell_type": "code",
   "execution_count": 30,
   "metadata": {},
   "outputs": [
    {
     "data": {
      "text/html": [
       "<div>\n",
       "<style scoped>\n",
       "    .dataframe tbody tr th:only-of-type {\n",
       "        vertical-align: middle;\n",
       "    }\n",
       "\n",
       "    .dataframe tbody tr th {\n",
       "        vertical-align: top;\n",
       "    }\n",
       "\n",
       "    .dataframe thead th {\n",
       "        text-align: right;\n",
       "    }\n",
       "</style>\n",
       "<table border=\"1\" class=\"dataframe\">\n",
       "  <thead>\n",
       "    <tr style=\"text-align: right;\">\n",
       "      <th></th>\n",
       "      <th>Unnamed: 0</th>\n",
       "      <th>lat</th>\n",
       "      <th>lon</th>\n",
       "      <th>rooms</th>\n",
       "      <th>bedrooms</th>\n",
       "      <th>bathrooms</th>\n",
       "      <th>surface_total</th>\n",
       "      <th>surface_covered</th>\n",
       "    </tr>\n",
       "  </thead>\n",
       "  <tbody>\n",
       "    <tr>\n",
       "      <th>count</th>\n",
       "      <td>65850.000000</td>\n",
       "      <td>49433.000000</td>\n",
       "      <td>49433.000000</td>\n",
       "      <td>9110.000000</td>\n",
       "      <td>13403.000000</td>\n",
       "      <td>52054.000000</td>\n",
       "      <td>2314.000000</td>\n",
       "      <td>3.305000e+03</td>\n",
       "    </tr>\n",
       "    <tr>\n",
       "      <th>mean</th>\n",
       "      <td>500260.289263</td>\n",
       "      <td>5.686868</td>\n",
       "      <td>-75.042164</td>\n",
       "      <td>3.282327</td>\n",
       "      <td>3.236813</td>\n",
       "      <td>2.639624</td>\n",
       "      <td>1355.283924</td>\n",
       "      <td>5.616338e+03</td>\n",
       "    </tr>\n",
       "    <tr>\n",
       "      <th>std</th>\n",
       "      <td>290438.140244</td>\n",
       "      <td>2.217177</td>\n",
       "      <td>1.098202</td>\n",
       "      <td>1.702092</td>\n",
       "      <td>1.972357</td>\n",
       "      <td>1.426015</td>\n",
       "      <td>9409.882547</td>\n",
       "      <td>3.012933e+05</td>\n",
       "    </tr>\n",
       "    <tr>\n",
       "      <th>min</th>\n",
       "      <td>4.000000</td>\n",
       "      <td>-4.203165</td>\n",
       "      <td>-81.705052</td>\n",
       "      <td>1.000000</td>\n",
       "      <td>0.000000</td>\n",
       "      <td>1.000000</td>\n",
       "      <td>10.000000</td>\n",
       "      <td>1.000000e+00</td>\n",
       "    </tr>\n",
       "    <tr>\n",
       "      <th>25%</th>\n",
       "      <td>235030.500000</td>\n",
       "      <td>4.582000</td>\n",
       "      <td>-75.644727</td>\n",
       "      <td>3.000000</td>\n",
       "      <td>3.000000</td>\n",
       "      <td>2.000000</td>\n",
       "      <td>74.000000</td>\n",
       "      <td>7.100000e+01</td>\n",
       "    </tr>\n",
       "    <tr>\n",
       "      <th>50%</th>\n",
       "      <td>509299.500000</td>\n",
       "      <td>4.918677</td>\n",
       "      <td>-75.476071</td>\n",
       "      <td>3.000000</td>\n",
       "      <td>3.000000</td>\n",
       "      <td>2.000000</td>\n",
       "      <td>120.000000</td>\n",
       "      <td>1.150000e+02</td>\n",
       "    </tr>\n",
       "    <tr>\n",
       "      <th>75%</th>\n",
       "      <td>772024.500000</td>\n",
       "      <td>6.251822</td>\n",
       "      <td>-74.094765</td>\n",
       "      <td>4.000000</td>\n",
       "      <td>4.000000</td>\n",
       "      <td>3.000000</td>\n",
       "      <td>274.500000</td>\n",
       "      <td>2.130000e+02</td>\n",
       "    </tr>\n",
       "    <tr>\n",
       "      <th>max</th>\n",
       "      <td>993559.000000</td>\n",
       "      <td>13.338761</td>\n",
       "      <td>-67.924336</td>\n",
       "      <td>40.000000</td>\n",
       "      <td>60.000000</td>\n",
       "      <td>20.000000</td>\n",
       "      <td>200000.000000</td>\n",
       "      <td>1.732000e+07</td>\n",
       "    </tr>\n",
       "  </tbody>\n",
       "</table>\n",
       "</div>"
      ],
      "text/plain": [
       "          Unnamed: 0           lat           lon        rooms      bedrooms  \\\n",
       "count   65850.000000  49433.000000  49433.000000  9110.000000  13403.000000   \n",
       "mean   500260.289263      5.686868    -75.042164     3.282327      3.236813   \n",
       "std    290438.140244      2.217177      1.098202     1.702092      1.972357   \n",
       "min         4.000000     -4.203165    -81.705052     1.000000      0.000000   \n",
       "25%    235030.500000      4.582000    -75.644727     3.000000      3.000000   \n",
       "50%    509299.500000      4.918677    -75.476071     3.000000      3.000000   \n",
       "75%    772024.500000      6.251822    -74.094765     4.000000      4.000000   \n",
       "max    993559.000000     13.338761    -67.924336    40.000000     60.000000   \n",
       "\n",
       "          bathrooms  surface_total  surface_covered  \n",
       "count  52054.000000    2314.000000     3.305000e+03  \n",
       "mean       2.639624    1355.283924     5.616338e+03  \n",
       "std        1.426015    9409.882547     3.012933e+05  \n",
       "min        1.000000      10.000000     1.000000e+00  \n",
       "25%        2.000000      74.000000     7.100000e+01  \n",
       "50%        2.000000     120.000000     1.150000e+02  \n",
       "75%        3.000000     274.500000     2.130000e+02  \n",
       "max       20.000000  200000.000000     1.732000e+07  "
      ]
     },
     "execution_count": 30,
     "metadata": {},
     "output_type": "execute_result"
    }
   ],
   "source": [
    "#veo las principales indicadores estadísticos (del set test) a ver si hay mucha diferencia con el train -.-\n",
    "properties_colombia_test.describe()"
   ]
  },
  {
   "cell_type": "code",
   "execution_count": 40,
   "metadata": {},
   "outputs": [
    {
     "name": "stdout",
     "output_type": "stream",
     "text": [
      "643605091.0064613\n"
     ]
    }
   ],
   "source": [
    "#Se saca el promedio de la columnas precios para poder dividir la variable objetivo \n",
    "\n",
    "media = properties_colombia_train['price'].mean()\n",
    "print(media)"
   ]
  },
  {
   "cell_type": "code",
   "execution_count": 6,
   "metadata": {},
   "outputs": [
    {
     "name": "stdout",
     "output_type": "stream",
     "text": [
      "643605091.0064613\n",
      "330000000.0\n"
     ]
    }
   ],
   "source": [
    "#comparo entre media y mediana. Puede que haya mas casas caras que baratas \n",
    "print(properties_colombia_train['price'].mean())\n",
    "print(properties_colombia_train['price'].median())\n"
   ]
  },
  {
   "cell_type": "code",
   "execution_count": 47,
   "metadata": {},
   "outputs": [],
   "source": [
    "#cambiar las variables a Caro=1, Barato=0\n",
    "properties_colombia_train['target'] = pd.cut(x = properties_colombia_train['price'],\n",
    "                       bins=[properties_colombia_train['price'].min()-1,\n",
    "                             properties_colombia_train['price'].mean(),\n",
    "                             properties_colombia_train['price'].max()+1], \n",
    "                       labels=['0', '1'])"
   ]
  },
  {
   "cell_type": "code",
   "execution_count": null,
   "metadata": {},
   "outputs": [],
   "source": [
    "properties_colombia_train"
   ]
  },
  {
   "cell_type": "code",
   "execution_count": 52,
   "metadata": {},
   "outputs": [
    {
     "data": {
      "text/plain": [
       "0    151191\n",
       "1     46358\n",
       "Name: y_target, dtype: int64"
      ]
     },
     "execution_count": 52,
     "metadata": {},
     "output_type": "execute_result"
    }
   ],
   "source": [
    "#ver cuantos hay de cada uno \n",
    "properties_colombia_train.y_target.value_counts()"
   ]
  },
  {
   "cell_type": "markdown",
   "metadata": {},
   "source": [
    "1. Valores faltantes"
   ]
  },
  {
   "cell_type": "code",
   "execution_count": 59,
   "metadata": {},
   "outputs": [],
   "source": [
    "#importamos libreria de missingno para ver los faltantes\n",
    "#pip install missingno \n",
    "import missingno as msno"
   ]
  },
  {
   "cell_type": "code",
   "execution_count": 60,
   "metadata": {},
   "outputs": [
    {
     "data": {
      "image/png": "[encoded data removed]",
      "text/plain": [
       "<Figure size 1800x720 with 3 Axes>"
      ]
     },
     "metadata": {
      "needs_background": "light"
     },
     "output_type": "display_data"
    }
   ],
   "source": [
    "msno.bar(properties_colombia_train)\n",
    "plt.show()"
   ]
  },
  {
   "cell_type": "code",
   "execution_count": null,
   "metadata": {},
   "outputs": [],
   "source": []
  }
 ],
 "metadata": {
  "interpreter": {
   "hash": "aee8b7b246df8f9039afb4144a1f6fd8d2ca17a180786b69acc140d282b71a49"
  },
  "kernelspec": {
   "display_name": "Python 3.9.13 64-bit",
   "language": "python",
   "name": "python3"
  },
  "language_info": {
   "codemirror_mode": {
    "name": "ipython",
    "version": 3
   },
   "file_extension": ".py",
   "mimetype": "text/x-python",
   "name": "python",
   "nbconvert_exporter": "python",
   "pygments_lexer": "ipython3",
   "version": "3.9.13"
  },
  "orig_nbformat": 4
 },
 "nbformat": 4,
 "nbformat_minor": 2
}
