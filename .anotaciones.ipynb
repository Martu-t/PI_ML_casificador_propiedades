{
 "cells": [
  {
   "cell_type": "code",
   "execution_count": null,
   "metadata": {},
   "outputs": [],
   "source": [
    "#analizar los tipos de datos\n",
    "properties_colombia_train.dtypes"
   ]
  },
  {
   "cell_type": "code",
   "execution_count": null,
   "metadata": {},
   "outputs": [],
   "source": [
    "properties_colombia_train['price_period'].unique()"
   ]
  },
  {
   "cell_type": "code",
   "execution_count": null,
   "metadata": {},
   "outputs": [],
   "source": [
    "#explorar dataframe \n",
    "properties_colombia_train['price_period'].isnull().sum()"
   ]
  },
  {
   "cell_type": "code",
   "execution_count": null,
   "metadata": {},
   "outputs": [],
   "source": [
    "#nulos precios_por_tiempo\n",
    "properties_colombia_train['price_period'].isnull().sum()/properties_colombia_train.shape[0]"
   ]
  },
  {
   "cell_type": "code",
   "execution_count": null,
   "metadata": {},
   "outputs": [],
   "source": [
    "#cambiar las variables a Caro=1, Barato=0\n",
    "properties_colombia_train['target'] = pd.cut(x = properties_colombia_train['price'],\n",
    "                       bins=[properties_colombia_train['price'].min()-1,\n",
    "                             properties_colombia_train['price'].mean(),\n",
    "                             properties_colombia_train['price'].max()+1], \n",
    "                       labels=['barato', 'caro'])"
   ]
  },
  {
   "cell_type": "code",
   "execution_count": null,
   "metadata": {},
   "outputs": [],
   "source": [
    "#se crea una columna con la variable objetivo, siendo 1=caro y 0=barato\n",
    "properties_colombia_train['y_target'] = np.where(properties_colombia_train['price']>=media, 1, 0)"
   ]
  },
  {
   "cell_type": "code",
   "execution_count": null,
   "metadata": {},
   "outputs": [],
   "source": [
    "#vemos a rasgos generales typos de datos y nulos\n",
    "properties_colombia_train.info()\n",
    "#algunas alertas de nulos:\n",
    "# l4 = aprox 77%\n",
    "# l5 = aprox 86%\n",
    "# l6 = aprox 96%\n",
    "# rooms = aprox 86%\n",
    "# bedrooms =\n",
    "# bathroom =\n",
    "# surface_total =\n",
    "# surface_covered ="
   ]
  }
 ],
 "metadata": {
  "language_info": {
   "name": "python"
  },
  "orig_nbformat": 4
 },
 "nbformat": 4,
 "nbformat_minor": 2
}
